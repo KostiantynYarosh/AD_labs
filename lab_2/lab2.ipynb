{
 "cells": [
  {
   "cell_type": "markdown",
   "id": "178055e3",
   "metadata": {},
   "source": [
    "ФБ-25 \n",
    "Ярош Костянтин\n",
    "Лабораторна робота No1\n",
    "Наука про дані: підготовчий етап\n",
    "\n",
    "Мета роботи: ознайомитися з основними кроками по роботі з даними – workflow від постановки задачі до написання пояснювальної записки, зрозуміти постановку задачі та природу даних, над якими виконується аналітичні операції.\n",
    "\n",
    "Хід виконання роботи:\n",
    "\n",
    "•\tДля кожної із адміністративних одиниць України завантажити тестові\n",
    "структуровані файли, що містять значення VHI-індексу. Ця процедура\n",
    "має бути автоматизована, параметром процедури має бути індекс\n",
    "(номер) області. При зберіганні файлу до його імені потрібно додати\n",
    "дату та час завантаження;"
   ]
  },
  {
   "cell_type": "code",
   "execution_count": null,
   "id": "53b7582a",
   "metadata": {},
   "outputs": [],
   "source": [
    "import os\n",
    "import pandas as pd\n",
    "import urllib.request\n",
    "from datetime import datetime"
   ]
  },
  {
   "cell_type": "code",
   "execution_count": 15,
   "id": "ba1af5ea",
   "metadata": {},
   "outputs": [
    {
     "name": "stdout",
     "output_type": "stream",
     "text": [
      "saving to D:\\Desktop\\KPI\\Kpi_2023\\sem_2\\AD\\lab2\\csv_files\n",
      "<http.client.HTTPResponse object at 0x000001EAF7DE0430>\n",
      "writing data\n",
      "1 VHI is downloaded...\n",
      "<http.client.HTTPResponse object at 0x000001EAF7DE3E80>\n",
      "writing data\n",
      "2 VHI is downloaded...\n",
      "<http.client.HTTPResponse object at 0x000001EAF7DE3D90>\n",
      "writing data\n",
      "3 VHI is downloaded...\n",
      "<http.client.HTTPResponse object at 0x000001EAF7DE0430>\n",
      "writing data\n",
      "4 VHI is downloaded...\n",
      "<http.client.HTTPResponse object at 0x000001EAF7DE3E80>\n",
      "writing data\n",
      "5 VHI is downloaded...\n",
      "<http.client.HTTPResponse object at 0x000001EAF7DE3D90>\n",
      "writing data\n",
      "6 VHI is downloaded...\n",
      "<http.client.HTTPResponse object at 0x000001EAF7DE0430>\n",
      "writing data\n",
      "7 VHI is downloaded...\n",
      "<http.client.HTTPResponse object at 0x000001EAF7DE3E80>\n",
      "writing data\n",
      "8 VHI is downloaded...\n",
      "<http.client.HTTPResponse object at 0x000001EAF7DE3D90>\n",
      "writing data\n",
      "9 VHI is downloaded...\n",
      "<http.client.HTTPResponse object at 0x000001EAF7DE0430>\n",
      "writing data\n",
      "10 VHI is downloaded...\n",
      "<http.client.HTTPResponse object at 0x000001EAF7DE3E80>\n",
      "writing data\n",
      "11 VHI is downloaded...\n",
      "<http.client.HTTPResponse object at 0x000001EAF7DE3D90>\n",
      "writing data\n",
      "12 VHI is downloaded...\n",
      "<http.client.HTTPResponse object at 0x000001EAF7DE0430>\n",
      "writing data\n",
      "13 VHI is downloaded...\n",
      "<http.client.HTTPResponse object at 0x000001EAF7DE3E80>\n",
      "writing data\n",
      "14 VHI is downloaded...\n",
      "<http.client.HTTPResponse object at 0x000001EAF7DE3D90>\n",
      "writing data\n",
      "15 VHI is downloaded...\n",
      "<http.client.HTTPResponse object at 0x000001EAF7DE0430>\n",
      "writing data\n",
      "16 VHI is downloaded...\n",
      "<http.client.HTTPResponse object at 0x000001EAF7DE3E80>\n",
      "writing data\n",
      "17 VHI is downloaded...\n",
      "<http.client.HTTPResponse object at 0x000001EAF7DE3D90>\n",
      "writing data\n",
      "18 VHI is downloaded...\n",
      "<http.client.HTTPResponse object at 0x000001EAF7DE0430>\n",
      "writing data\n",
      "19 VHI is downloaded...\n",
      "<http.client.HTTPResponse object at 0x000001EAF7DE3E80>\n",
      "writing data\n",
      "20 VHI is downloaded...\n",
      "<http.client.HTTPResponse object at 0x000001EAF7DE3D90>\n",
      "writing data\n",
      "21 VHI is downloaded...\n",
      "<http.client.HTTPResponse object at 0x000001EAF7DE0430>\n",
      "writing data\n",
      "22 VHI is downloaded...\n",
      "<http.client.HTTPResponse object at 0x000001EAF7DE3E80>\n",
      "writing data\n",
      "23 VHI is downloaded...\n",
      "<http.client.HTTPResponse object at 0x000001EAF7DE3D90>\n",
      "writing data\n",
      "24 VHI is downloaded...\n",
      "<http.client.HTTPResponse object at 0x000001EAF7DE0430>\n",
      "writing data\n",
      "25 VHI is downloaded...\n",
      "<http.client.HTTPResponse object at 0x000001EAF7DE3E80>\n",
      "writing data\n",
      "26 VHI is downloaded...\n",
      "<http.client.HTTPResponse object at 0x000001EAF7DE3D90>\n",
      "writing data\n",
      "27 VHI is downloaded...\n"
     ]
    }
   ],
   "source": [
    "directory = 'D:\\Desktop\\KPI\\Kpi_2023\\sem_2\\AD\\lab2\\csv_files'\n",
    "print(f'saving to {directory}')\n",
    "def download(id):\n",
    "    url = f\"https://www.star.nesdis.noaa.gov/smcd/emb/vci/VH/get_TS_admin.php?country=UKR&provinceID={id}&year1=1981&year2=2024&type=Mean\"\n",
    "    vhi_url = urllib.request.urlopen(url)\n",
    "\n",
    "    file_name = os.path.join(directory, f'vhi_id_{id}_{datetime.now().strftime(\"%Y-%m-%d %H-%M-%S\")}.csv')\n",
    "\n",
    "    print(vhi_url)\n",
    "    with open(file_name, 'wb') as out:\n",
    "        print('writing data')\n",
    "        out.write(vhi_url.read())\n",
    "\n",
    "    print(f\"{id} VHI is downloaded...\")\n",
    "\n",
    "\n",
    "for i in range(1, 28):\n",
    "    download(i)\n"
   ]
  },
  {
   "cell_type": "markdown",
   "id": "a7242072",
   "metadata": {},
   "source": [
    "•\tЗчитати завантажені текстові файли у фрейм (детальніше про роботу\n",
    "із фреймами буде розказано у подальших лабораторних роботах).\n",
    "Імена стовбців фрейму мають бути змістовними та легкими для\n",
    "сприйняття (не повинно бути спеціалізованих символів, пробілів\n",
    "тощо). Ця задача має бути реалізована у вигляді окремої процедури,\n",
    "яка на вхід приймає шлях до директорії, в якій зберігаються файли;"
   ]
  },
  {
   "cell_type": "code",
   "execution_count": 17,
   "id": "6f2e3821",
   "metadata": {},
   "outputs": [],
   "source": [
    "def extract(directory):\n",
    "  files = os.listdir(directory)\n",
    "  headers = ['Year', 'Week', 'SMN', 'SMT', 'VCI', 'TCI', 'VHI', 'empty']\n",
    "  main_df = pd.DataFrame()\n",
    "  for i in range(len(files)):\n",
    "    file_path = os.path.join(directory, files[i])\n",
    "    df = pd.read_csv(file_path, header = 1, names = headers)\n",
    "    df = df.drop(df.loc[df['VHI'] == -1].index)\n",
    "    df['area'] = i+1\n",
    "    \n",
    "    df['Year'] = df['Year'].str.replace('<tt><pre>', '')\n",
    "    \n",
    "    df = df.drop(df[df['Year'] == '</pre></tt>'].index)\n",
    "    df[\"Year\"] = df[\"Year\"].astype(int)\n",
    "    main_df = pd.concat([main_df, df])\n",
    "  return main_df\n"
   ]
  },
  {
   "cell_type": "markdown",
   "id": "e263902a",
   "metadata": {},
   "source": [
    "•\tРеалізувати процедуру, яка змінить індекси областей, які використані\n",
    "на порталі NOAA на наступні:"
   ]
  },
  {
   "cell_type": "code",
   "execution_count": 18,
   "id": "d3f88eaa",
   "metadata": {},
   "outputs": [],
   "source": [
    "def change_area(df):\n",
    "  names =  {1: \"Cherkasy\", 2: \"Chernihiv\", 3: \"Chernivtsi\", 4: \"Crimea\", 5: \"Dnipropetrovs'k\", 6: \"Donets'k\", 7: \"Ivano-Frankivs'k\", 8: \"Kharkiv\", 9: \"Kherson\", 10: \"Khmel'nyts'kyy\", 11: \"Kiev\", 12: \"Kiev City\", 13: \"Kirovohrad\", 14: \"Luhans'k\", 15: \"L'viv\", 16: \"Mykolayiv\", 17: \"Odessa\", 18: \"Poltava\", 19: \"Rivne\", 20: \"Sevastopol'\", 21: \"Sumy\", 22: \"Ternopil'\", 23: \"Transcarpathia\", 24: \"Vinnytsya\", 25: \"Volyn\", 26: \"Zaporizhzhya\", 27: \"Zhytomyr\"}\n",
    "  for name in names:\n",
    "    df[\"area\"].replace({name:names[name]}, inplace = True)\n",
    "  return df"
   ]
  },
  {
   "cell_type": "markdown",
   "id": "2b430c30",
   "metadata": {},
   "source": [
    "Приклад використання:"
   ]
  },
  {
   "cell_type": "code",
   "execution_count": 19,
   "id": "766d2a7f",
   "metadata": {},
   "outputs": [
    {
     "name": "stdout",
     "output_type": "stream",
     "text": [
      "      Year  Week    SMN     SMT    VCI    TCI    VHI  empty      area\n",
      "0     1982   1.0  0.059  258.24  51.11  48.78  49.95    NaN  Cherkasy\n",
      "1     1982   2.0  0.063  261.53  55.89  38.20  47.04    NaN  Cherkasy\n",
      "2     1982   3.0  0.063  263.45  57.30  32.69  44.99    NaN  Cherkasy\n",
      "3     1982   4.0  0.061  265.10  53.96  28.62  41.29    NaN  Cherkasy\n",
      "4     1982   5.0  0.058  266.42  46.87  28.57  37.72    NaN  Cherkasy\n",
      "...    ...   ...    ...     ...    ...    ...    ...    ...       ...\n",
      "2184  2024   1.0  0.098  273.68  50.23  12.09  31.16    NaN  Zhytomyr\n",
      "2185  2024   2.0  0.096  272.93  52.49  12.98  32.74    NaN  Zhytomyr\n",
      "2186  2024   3.0  0.092  272.34  52.60  14.33  33.46    NaN  Zhytomyr\n",
      "2187  2024   4.0  0.090  271.88  52.63  17.67  35.15    NaN  Zhytomyr\n",
      "2188  2024   5.0  0.095  272.68  54.76  17.21  35.98    NaN  Zhytomyr\n",
      "\n",
      "[57753 rows x 9 columns]\n"
     ]
    }
   ],
   "source": [
    "df = change_area(extract(directory))\n",
    "print(df)"
   ]
  },
  {
   "cell_type": "markdown",
   "id": "db0c9a3b",
   "metadata": {},
   "source": [
    "Реалізувати процедури для формування вибірок наступного виду\n",
    "(включаючи елементи аналізу):\n",
    "o Ряд VHI для області за рік, пошук екстремумів (min та max);"
   ]
  },
  {
   "cell_type": "code",
   "execution_count": 20,
   "id": "04489124",
   "metadata": {},
   "outputs": [],
   "source": [
    "def min_vhi(df, area_name, year):\n",
    "  filtered_df = df[(df[\"area\"] == area_name) & (df[\"Year\"] == year)]\n",
    "  minimum_vhi = filtered_df[\"VHI\"].min()\n",
    "  return filtered_df[filtered_df[\"VHI\"] == minimum_vhi]\n",
    "\n",
    "def max_vhi(df, area_name, year):\n",
    "  filtered_df = df[(df[\"area\"] == area_name) & (df[\"Year\"] == year)]\n",
    "  maximum_vhi = filtered_df[\"VHI\"].max()\n",
    "  return filtered_df[filtered_df[\"VHI\"] == maximum_vhi]"
   ]
  },
  {
   "cell_type": "markdown",
   "id": "ab888715",
   "metadata": {},
   "source": [
    "Приклад використання:"
   ]
  },
  {
   "cell_type": "code",
   "execution_count": 21,
   "id": "71f4790f",
   "metadata": {},
   "outputs": [
    {
     "name": "stdout",
     "output_type": "stream",
     "text": [
      "      Year  Week    SMN     SMT    VCI    TCI    VHI  empty       area\n",
      "1241  2005  46.0  0.131  272.64  53.75  30.41  42.08    NaN  Chernihiv\n",
      "      Year  Week    SMN     SMT    VCI    TCI    VHI  empty       area\n",
      "1220  2005  25.0  0.466  294.23  75.77  66.15  70.96    NaN  Chernihiv\n"
     ]
    }
   ],
   "source": [
    "print(min_vhi(df, \"Chernihiv\", 2005))\n",
    "print(max_vhi(df, \"Chernihiv\", 2005))"
   ]
  },
  {
   "cell_type": "markdown",
   "id": "9e175f0d",
   "metadata": {},
   "source": [
    "o Ряд VHI за всі роки для області, виявити роки з екстремальними\n",
    "посухами, які торкнулися більше вказаного відсотка області;\n",
    "o Аналогічно для помірних посух\n",
    "Я обєднав їх в одну процедуру з параметром відсотка засухи"
   ]
  },
  {
   "cell_type": "code",
   "execution_count": 23,
   "id": "b439829f",
   "metadata": {},
   "outputs": [],
   "source": [
    "def find_extrim(df, area_name, precent):\n",
    "  df_drought = df[(df[\"area\"] == area_name)]\n",
    "  years = list(df['Year'].unique())\n",
    "  res = []\n",
    "  for year in years:\n",
    "    if not df[(df[\"Year\"] == year) & (df.VHI <= precent)].empty:\n",
    "      res.append(year)\n",
    "  return res"
   ]
  },
  {
   "cell_type": "markdown",
   "id": "1320fb80",
   "metadata": {},
   "source": [
    "Приклад використання:"
   ]
  },
  {
   "cell_type": "code",
   "execution_count": 24,
   "id": "32eda804",
   "metadata": {},
   "outputs": [
    {
     "name": "stdout",
     "output_type": "stream",
     "text": [
      "[1984, 1986, 1993, 1994, 1999, 2000, 2003, 2007, 2012]\n"
     ]
    }
   ],
   "source": [
    "print(find_extrim(df, \"Chernihiv\", 15))"
   ]
  }
 ],
 "metadata": {
  "kernelspec": {
   "display_name": "Python 3 (ipykernel)",
   "language": "python",
   "name": "python3"
  },
  "language_info": {
   "codemirror_mode": {
    "name": "ipython",
    "version": 3
   },
   "file_extension": ".py",
   "mimetype": "text/x-python",
   "name": "python",
   "nbconvert_exporter": "python",
   "pygments_lexer": "ipython3",
   "version": "3.11.5"
  }
 },
 "nbformat": 4,
 "nbformat_minor": 5
}
